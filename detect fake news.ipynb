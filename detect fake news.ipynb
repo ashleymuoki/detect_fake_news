{
 "cells": [
  {
   "cell_type": "code",
   "execution_count": 2,
   "id": "b8a8d073-36f2-4b79-ad23-6e7036be2540",
   "metadata": {
    "tags": []
   },
   "outputs": [],
   "source": [
    "import numpy as np\n",
    "import pandas as pd\n",
    "import itertools\n",
    "from sklearn.model_selection import train_test_split\n",
    "from sklearn.feature_extraction.text import TfidfVectorizer\n",
    "from sklearn.linear_model import PassiveAggressiveClassifier\n",
    "from sklearn.metrics import accuracy_score, confusion_matrix\n"
   ]
  },
  {
   "cell_type": "code",
   "execution_count": null,
   "id": "448477a0-ce32-4892-868f-4c92990d06f7",
   "metadata": {},
   "outputs": [],
   "source": [
    "#read the data into a dataframe \n",
    "df = pd.read_csv('path')\n",
    "#get shape and head\n",
    "df.shape\n",
    "df.head()"
   ]
  },
  {
   "cell_type": "code",
   "execution_count": null,
   "id": "e2b8768d-e835-40b9-bdfd-633f1848d2d3",
   "metadata": {},
   "outputs": [],
   "source": [
    "#get the labels\n",
    "labels = df.label\n",
    "labels.head()"
   ]
  },
  {
   "cell_type": "code",
   "execution_count": null,
   "id": "d3865a84-4817-441c-8967-6c34869edf03",
   "metadata": {},
   "outputs": [],
   "source": [
    "#split the dataset into training and testing sets \n",
    "x_train,x_test, y_train,y_test = train_test_split(df['text'], labels, test_size = 0.2, random_state = 7)"
   ]
  },
  {
   "cell_type": "code",
   "execution_count": null,
   "id": "93eb2a5f-b98e-4e3c-b606-ff3ac8b278cc",
   "metadata": {},
   "outputs": [],
   "source": [
    "#initialize a TfidVectorizer\n",
    "tfidf_vectorizer = TfidVectorizer(stop_words='english', max_df = 0.7)\n",
    "\n",
    "#fit and transform train set, transform test set\n",
    "tfidf_train=tfidf_vectorizer.fit_transform(x_train)\n",
    "tfidf_test = tfidf_vectorizer.transform(x_test)"
   ]
  },
  {
   "cell_type": "code",
   "execution_count": null,
   "id": "740fce4f-a08f-4736-bf4d-a87f72d1cf3e",
   "metadata": {},
   "outputs": [],
   "source": [
    "#Initialize a PAssiveAggressiveClassifier\n",
    "pac = PassiveAggressiveClassifier(max_iter = 50)\n",
    "pac.fit(tfidf_train, y_train)\n",
    "#Predist on the test set and calculate accuracy\n",
    "y_pred = pac.predict(tfidf_test)\n",
    "score = accuracy_score(y_test, y_pred)\n",
    "print(f'Accuracy:{round(score*100,2)}%)\n",
    "      "
   ]
  },
  {
   "cell_type": "code",
   "execution_count": null,
   "id": "9cc1c85f-86a2-444a-81b6-653f483e627d",
   "metadata": {},
   "outputs": [],
   "source": [
    "#Build confusion matrix\n",
    "confusion_matrix(y_test, y_pred, labels=['Fake', 'Real'])\n"
   ]
  }
 ],
 "metadata": {
  "kernelspec": {
   "display_name": "Python 3 (ipykernel)",
   "language": "python",
   "name": "python3"
  },
  "language_info": {
   "codemirror_mode": {
    "name": "ipython",
    "version": 3
   },
   "file_extension": ".py",
   "mimetype": "text/x-python",
   "name": "python",
   "nbconvert_exporter": "python",
   "pygments_lexer": "ipython3",
   "version": "3.11.4"
  }
 },
 "nbformat": 4,
 "nbformat_minor": 5
}
